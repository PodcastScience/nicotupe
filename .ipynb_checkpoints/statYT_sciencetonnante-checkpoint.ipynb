{
 "cells": [
  {
   "cell_type": "markdown",
   "metadata": {},
   "source": [
    "# Analyse de stats Youtube\n",
    "\n",
    "Grace aux données de science étonnante : https://sciencetonnante.wordpress.com/2017/08/30/de-quoi-le-succes-dune-chaine-youtube-de-vulgarisation-depend-il/"
   ]
  },
  {
   "cell_type": "code",
   "execution_count": 2,
   "metadata": {
    "collapsed": false
   },
   "outputs": [],
   "source": [
    "# imports\n",
    "import pandas as pd\n",
    "import matplotlib\n",
    "import numpy as np\n",
    "import matplotlib.pyplot as plt\n",
    "%matplotlib inline  \n",
    "from pandas.tools.plotting import scatter_matrix"
   ]
  },
  {
   "cell_type": "code",
   "execution_count": 3,
   "metadata": {
    "collapsed": true
   },
   "outputs": [],
   "source": [
    "# chargement du csv\n",
    "df = pd.read_csv('statsYT.csv',sep=';')"
   ]
  },
  {
   "cell_type": "code",
   "execution_count": 4,
   "metadata": {
    "collapsed": false
   },
   "outputs": [
    {
     "data": {
      "text/html": [
       "<div>\n",
       "<table border=\"1\" class=\"dataframe\">\n",
       "  <thead>\n",
       "    <tr style=\"text-align: right;\">\n",
       "      <th></th>\n",
       "      <th>Unnamed: 0</th>\n",
       "      <th>Abos</th>\n",
       "      <th>Vues</th>\n",
       "      <th>AgeJ</th>\n",
       "      <th>Videos</th>\n",
       "      <th>IncF</th>\n",
       "      <th>FC</th>\n",
       "      <th>name</th>\n",
       "    </tr>\n",
       "  </thead>\n",
       "  <tbody>\n",
       "    <tr>\n",
       "      <th>0</th>\n",
       "      <td>AK1</td>\n",
       "      <td>12288</td>\n",
       "      <td>2394779</td>\n",
       "      <td>893</td>\n",
       "      <td>140</td>\n",
       "      <td>0</td>\n",
       "      <td>1</td>\n",
       "      <td>AK1</td>\n",
       "    </tr>\n",
       "    <tr>\n",
       "      <th>1</th>\n",
       "      <td>Albert</td>\n",
       "      <td>90362</td>\n",
       "      <td>1580676</td>\n",
       "      <td>536</td>\n",
       "      <td>12</td>\n",
       "      <td>0</td>\n",
       "      <td>0</td>\n",
       "      <td>Albert</td>\n",
       "    </tr>\n",
       "    <tr>\n",
       "      <th>2</th>\n",
       "      <td>Alexis_Rastier</td>\n",
       "      <td>1245</td>\n",
       "      <td>29292</td>\n",
       "      <td>2007</td>\n",
       "      <td>23</td>\n",
       "      <td>0</td>\n",
       "      <td>0</td>\n",
       "      <td>Alexis_Rastier</td>\n",
       "    </tr>\n",
       "    <tr>\n",
       "      <th>3</th>\n",
       "      <td>AnthroStory</td>\n",
       "      <td>2912</td>\n",
       "      <td>144722</td>\n",
       "      <td>1137</td>\n",
       "      <td>89</td>\n",
       "      <td>0</td>\n",
       "      <td>0</td>\n",
       "      <td>AnthroStory</td>\n",
       "    </tr>\n",
       "    <tr>\n",
       "      <th>4</th>\n",
       "      <td>Ascl_pios</td>\n",
       "      <td>12892</td>\n",
       "      <td>245828</td>\n",
       "      <td>409</td>\n",
       "      <td>11</td>\n",
       "      <td>0</td>\n",
       "      <td>1</td>\n",
       "      <td>Ascl_pios</td>\n",
       "    </tr>\n",
       "  </tbody>\n",
       "</table>\n",
       "</div>"
      ],
      "text/plain": [
       "       Unnamed: 0   Abos     Vues  AgeJ  Videos  IncF  FC            name\n",
       "0             AK1  12288  2394779   893     140     0   1             AK1\n",
       "1          Albert  90362  1580676   536      12     0   0          Albert\n",
       "2  Alexis_Rastier   1245    29292  2007      23     0   0  Alexis_Rastier\n",
       "3     AnthroStory   2912   144722  1137      89     0   0     AnthroStory\n",
       "4       Ascl_pios  12892   245828   409      11     0   1       Ascl_pios"
      ]
     },
     "execution_count": 4,
     "metadata": {},
     "output_type": "execute_result"
    }
   ],
   "source": [
    "# on renomme la colonne non nommee\n",
    "df['name'] = df['Unnamed: 0']\n",
    "# affichage des premieres lignes\n",
    "df.head()"
   ]
  },
  {
   "cell_type": "code",
   "execution_count": 5,
   "metadata": {
    "collapsed": false
   },
   "outputs": [],
   "source": [
    "# Calcul des métriques qu'a calculé David qui ne sont pas dans le csv : \n",
    "# - log des abonnes\n",
    "df['logabos'] = np.log(df['Abos'])\n",
    "# - frequence de publication\n",
    "df['freqPub'] = df['Videos']/df['AgeJ']"
   ]
  },
  {
   "cell_type": "code",
   "execution_count": null,
   "metadata": {
    "collapsed": true
   },
   "outputs": [],
   "source": [
    "# colorisations pour H/F et FaceCam/PasFaceCam\n",
    "df.loc[df['IncF'] == 1,'hf_colors'] = '#FF0000'\n",
    "df.loc[df['IncF'] == 0,'hf_colors'] = '#00FF00'\n",
    "df.loc[df['IncF'] == 1,'hf_colors'] = '#FF0000'\n",
    "df.loc[df['IncF'] == 0,'hf_colors'] = '#00FF00'"
   ]
  },
  {
   "cell_type": "code",
   "execution_count": 70,
   "metadata": {
    "collapsed": false
   },
   "outputs": [
    {
     "name": "stdout",
     "output_type": "stream",
     "text": [
      "16 with IncF == 1\n",
      "99 with IncF == 0\n"
     ]
    }
   ],
   "source": [
    "col = 'AgeJ'\n",
    "spec = 'IncF'\n",
    "\n",
    "print len(df[df[spec] == 1]), 'with', spec, '== 1'\n",
    "print len(df[df[spec] == 0]), 'with', spec, '== 0'"
   ]
  },
  {
   "cell_type": "code",
   "execution_count": null,
   "metadata": {
    "collapsed": true
   },
   "outputs": [],
   "source": [
    "\n",
    "pd.scatter_matrix(df[['logabos','Vues','AgeJ','Videos','Abos']], alpha=0.2, figsize=(20, 10), diagonal='kde')\n"
   ]
  },
  {
   "cell_type": "code",
   "execution_count": 50,
   "metadata": {
    "collapsed": false
   },
   "outputs": [
    {
     "data": {
      "text/plain": [
       "<matplotlib.axes._subplots.AxesSubplot at 0x110c5ed50>"
      ]
     },
     "execution_count": 50,
     "metadata": {},
     "output_type": "execute_result"
    },
    {
     "data": {
      "image/png": "[encoded data removed]",
      "text/plain": [
       "<matplotlib.figure.Figure at 0x110f10c90>"
      ]
     },
     "metadata": {},
     "output_type": "display_data"
    }
   ],
   "source": [
    "df[df[spec] == 1][col].plot(kind='hist',figsize=(20,5),bins=30,xlim=(0,df[col].max()))"
   ]
  },
  {
   "cell_type": "code",
   "execution_count": 51,
   "metadata": {
    "collapsed": false
   },
   "outputs": [
    {
     "data": {
      "text/plain": [
       "<matplotlib.axes._subplots.AxesSubplot at 0x111f66f50>"
      ]
     },
     "execution_count": 51,
     "metadata": {},
     "output_type": "execute_result"
    },
    {
     "data": {
      "image/png": "[encoded data removed]",
      "text/plain": [
       "<matplotlib.figure.Figure at 0x111d2a750>"
      ]
     },
     "metadata": {},
     "output_type": "display_data"
    }
   ],
   "source": [
    "df[df[spec] == 0][col].plot(kind='hist',figsize=(20,5),bins=30,xlim=(0,df[col].max()))"
   ]
  },
  {
   "cell_type": "code",
   "execution_count": 47,
   "metadata": {
    "collapsed": false
   },
   "outputs": [
    {
     "data": {
      "text/html": [
       "<div>\n",
       "<table border=\"1\" class=\"dataframe\">\n",
       "  <thead>\n",
       "    <tr style=\"text-align: right;\">\n",
       "      <th></th>\n",
       "      <th>Unnamed: 0</th>\n",
       "      <th>Abos</th>\n",
       "      <th>Vues</th>\n",
       "      <th>AgeJ</th>\n",
       "      <th>Videos</th>\n",
       "      <th>IncF</th>\n",
       "      <th>FC</th>\n",
       "      <th>name</th>\n",
       "      <th>logabos</th>\n",
       "    </tr>\n",
       "  </thead>\n",
       "  <tbody>\n",
       "    <tr>\n",
       "      <th>25</th>\n",
       "      <td>DrNozman</td>\n",
       "      <td>1816311</td>\n",
       "      <td>209501652</td>\n",
       "      <td>2283</td>\n",
       "      <td>214</td>\n",
       "      <td>0</td>\n",
       "      <td>1</td>\n",
       "      <td>DrNozman</td>\n",
       "      <td>14.412318</td>\n",
       "    </tr>\n",
       "    <tr>\n",
       "      <th>27</th>\n",
       "      <td>E-penser</td>\n",
       "      <td>905076</td>\n",
       "      <td>67071365</td>\n",
       "      <td>1462</td>\n",
       "      <td>95</td>\n",
       "      <td>0</td>\n",
       "      <td>1</td>\n",
       "      <td>E-penser</td>\n",
       "      <td>13.715774</td>\n",
       "    </tr>\n",
       "    <tr>\n",
       "      <th>28</th>\n",
       "      <td>ExperimentBoy</td>\n",
       "      <td>631122</td>\n",
       "      <td>49550375</td>\n",
       "      <td>1780</td>\n",
       "      <td>119</td>\n",
       "      <td>0</td>\n",
       "      <td>1</td>\n",
       "      <td>ExperimentBoy</td>\n",
       "      <td>13.355254</td>\n",
       "    </tr>\n",
       "    <tr>\n",
       "      <th>24</th>\n",
       "      <td>Dirtybiology</td>\n",
       "      <td>485255</td>\n",
       "      <td>24112253</td>\n",
       "      <td>1287</td>\n",
       "      <td>50</td>\n",
       "      <td>0</td>\n",
       "      <td>1</td>\n",
       "      <td>Dirtybiology</td>\n",
       "      <td>13.092430</td>\n",
       "    </tr>\n",
       "    <tr>\n",
       "      <th>5</th>\n",
       "      <td>Axolot</td>\n",
       "      <td>456877</td>\n",
       "      <td>13506876</td>\n",
       "      <td>1539</td>\n",
       "      <td>22</td>\n",
       "      <td>0</td>\n",
       "      <td>1</td>\n",
       "      <td>Axolot</td>\n",
       "      <td>13.032169</td>\n",
       "    </tr>\n",
       "    <tr>\n",
       "      <th>20</th>\n",
       "      <td>Dans_ton_corps</td>\n",
       "      <td>390463</td>\n",
       "      <td>24414157</td>\n",
       "      <td>503</td>\n",
       "      <td>72</td>\n",
       "      <td>0</td>\n",
       "      <td>1</td>\n",
       "      <td>Dans_ton_corps</td>\n",
       "      <td>12.875088</td>\n",
       "    </tr>\n",
       "    <tr>\n",
       "      <th>79</th>\n",
       "      <td>Science_étonnante</td>\n",
       "      <td>330134</td>\n",
       "      <td>16466239</td>\n",
       "      <td>959</td>\n",
       "      <td>59</td>\n",
       "      <td>0</td>\n",
       "      <td>1</td>\n",
       "      <td>Science_étonnante</td>\n",
       "      <td>12.707254</td>\n",
       "    </tr>\n",
       "    <tr>\n",
       "      <th>36</th>\n",
       "      <td>Incroyables_expériences</td>\n",
       "      <td>274756</td>\n",
       "      <td>32121498</td>\n",
       "      <td>3036</td>\n",
       "      <td>91</td>\n",
       "      <td>0</td>\n",
       "      <td>1</td>\n",
       "      <td>Incroyables_expériences</td>\n",
       "      <td>12.523639</td>\n",
       "    </tr>\n",
       "    <tr>\n",
       "      <th>55</th>\n",
       "      <td>Les_Revues_du_Monde</td>\n",
       "      <td>271154</td>\n",
       "      <td>7847338</td>\n",
       "      <td>1132</td>\n",
       "      <td>32</td>\n",
       "      <td>1</td>\n",
       "      <td>1</td>\n",
       "      <td>Les_Revues_du_Monde</td>\n",
       "      <td>12.510442</td>\n",
       "    </tr>\n",
       "    <tr>\n",
       "      <th>63</th>\n",
       "      <td>Mic_Maths</td>\n",
       "      <td>247753</td>\n",
       "      <td>16201277</td>\n",
       "      <td>2180</td>\n",
       "      <td>133</td>\n",
       "      <td>0</td>\n",
       "      <td>1</td>\n",
       "      <td>Mic_Maths</td>\n",
       "      <td>12.420188</td>\n",
       "    </tr>\n",
       "    <tr>\n",
       "      <th>59</th>\n",
       "      <td>Linguisticae</td>\n",
       "      <td>153644</td>\n",
       "      <td>6570513</td>\n",
       "      <td>981</td>\n",
       "      <td>103</td>\n",
       "      <td>0</td>\n",
       "      <td>1</td>\n",
       "      <td>Linguisticae</td>\n",
       "      <td>11.942394</td>\n",
       "    </tr>\n",
       "    <tr>\n",
       "      <th>34</th>\n",
       "      <td>Hygiène_mentale</td>\n",
       "      <td>145397</td>\n",
       "      <td>4055326</td>\n",
       "      <td>1132</td>\n",
       "      <td>30</td>\n",
       "      <td>0</td>\n",
       "      <td>0</td>\n",
       "      <td>Hygiène_mentale</td>\n",
       "      <td>11.887223</td>\n",
       "    </tr>\n",
       "    <tr>\n",
       "      <th>41</th>\n",
       "      <td>La_minute_science</td>\n",
       "      <td>119081</td>\n",
       "      <td>5285894</td>\n",
       "      <td>1072</td>\n",
       "      <td>56</td>\n",
       "      <td>0</td>\n",
       "      <td>0</td>\n",
       "      <td>La_minute_science</td>\n",
       "      <td>11.687559</td>\n",
       "    </tr>\n",
       "    <tr>\n",
       "      <th>78</th>\n",
       "      <td>Science4All</td>\n",
       "      <td>95996</td>\n",
       "      <td>3473673</td>\n",
       "      <td>564</td>\n",
       "      <td>109</td>\n",
       "      <td>0</td>\n",
       "      <td>1</td>\n",
       "      <td>Science4All</td>\n",
       "      <td>11.472062</td>\n",
       "    </tr>\n",
       "    <tr>\n",
       "      <th>89</th>\n",
       "      <td>String_Theory</td>\n",
       "      <td>92569</td>\n",
       "      <td>4181258</td>\n",
       "      <td>514</td>\n",
       "      <td>75</td>\n",
       "      <td>0</td>\n",
       "      <td>1</td>\n",
       "      <td>String_Theory</td>\n",
       "      <td>11.435710</td>\n",
       "    </tr>\n",
       "    <tr>\n",
       "      <th>51</th>\n",
       "      <td>Le_PsyLab</td>\n",
       "      <td>91444</td>\n",
       "      <td>2385691</td>\n",
       "      <td>1278</td>\n",
       "      <td>52</td>\n",
       "      <td>0</td>\n",
       "      <td>1</td>\n",
       "      <td>Le_PsyLab</td>\n",
       "      <td>11.423482</td>\n",
       "    </tr>\n",
       "    <tr>\n",
       "      <th>1</th>\n",
       "      <td>Albert</td>\n",
       "      <td>90362</td>\n",
       "      <td>1580676</td>\n",
       "      <td>536</td>\n",
       "      <td>12</td>\n",
       "      <td>0</td>\n",
       "      <td>0</td>\n",
       "      <td>Albert</td>\n",
       "      <td>11.411579</td>\n",
       "    </tr>\n",
       "    <tr>\n",
       "      <th>23</th>\n",
       "      <td>AstronoGeek</td>\n",
       "      <td>89378</td>\n",
       "      <td>3094237</td>\n",
       "      <td>693</td>\n",
       "      <td>27</td>\n",
       "      <td>0</td>\n",
       "      <td>1</td>\n",
       "      <td>AstronoGeek</td>\n",
       "      <td>11.400630</td>\n",
       "    </tr>\n",
       "    <tr>\n",
       "      <th>84</th>\n",
       "      <td>Scilabus</td>\n",
       "      <td>80858</td>\n",
       "      <td>2558418</td>\n",
       "      <td>1446</td>\n",
       "      <td>69</td>\n",
       "      <td>1</td>\n",
       "      <td>1</td>\n",
       "      <td>Scilabus</td>\n",
       "      <td>11.300450</td>\n",
       "    </tr>\n",
       "    <tr>\n",
       "      <th>15</th>\n",
       "      <td>C_est_une_autre_histoire</td>\n",
       "      <td>77986</td>\n",
       "      <td>2045244</td>\n",
       "      <td>792</td>\n",
       "      <td>47</td>\n",
       "      <td>1</td>\n",
       "      <td>1</td>\n",
       "      <td>C_est_une_autre_histoire</td>\n",
       "      <td>11.264285</td>\n",
       "    </tr>\n",
       "    <tr>\n",
       "      <th>90</th>\n",
       "      <td>Stupid_Economics</td>\n",
       "      <td>68389</td>\n",
       "      <td>1608493</td>\n",
       "      <td>800</td>\n",
       "      <td>33</td>\n",
       "      <td>0</td>\n",
       "      <td>1</td>\n",
       "      <td>Stupid_Economics</td>\n",
       "      <td>11.132967</td>\n",
       "    </tr>\n",
       "    <tr>\n",
       "      <th>46</th>\n",
       "      <td>La_tronche_en_biais</td>\n",
       "      <td>67748</td>\n",
       "      <td>3666959</td>\n",
       "      <td>1020</td>\n",
       "      <td>120</td>\n",
       "      <td>0</td>\n",
       "      <td>1</td>\n",
       "      <td>La_tronche_en_biais</td>\n",
       "      <td>11.123550</td>\n",
       "    </tr>\n",
       "    <tr>\n",
       "      <th>52</th>\n",
       "      <td>Le_Sense_of_Wonder</td>\n",
       "      <td>66902</td>\n",
       "      <td>692192</td>\n",
       "      <td>830</td>\n",
       "      <td>6</td>\n",
       "      <td>0</td>\n",
       "      <td>1</td>\n",
       "      <td>Le_Sense_of_Wonder</td>\n",
       "      <td>11.110984</td>\n",
       "    </tr>\n",
       "    <tr>\n",
       "      <th>22</th>\n",
       "      <td>Dimension</td>\n",
       "      <td>61048</td>\n",
       "      <td>1319325</td>\n",
       "      <td>815</td>\n",
       "      <td>25</td>\n",
       "      <td>0</td>\n",
       "      <td>0</td>\n",
       "      <td>Dimension</td>\n",
       "      <td>11.019416</td>\n",
       "    </tr>\n",
       "    <tr>\n",
       "      <th>33</th>\n",
       "      <td>Heu_Reka</td>\n",
       "      <td>60470</td>\n",
       "      <td>1632981</td>\n",
       "      <td>679</td>\n",
       "      <td>36</td>\n",
       "      <td>0</td>\n",
       "      <td>1</td>\n",
       "      <td>Heu_Reka</td>\n",
       "      <td>11.009903</td>\n",
       "    </tr>\n",
       "    <tr>\n",
       "      <th>30</th>\n",
       "      <td>Florence_Porcel</td>\n",
       "      <td>52670</td>\n",
       "      <td>2590263</td>\n",
       "      <td>2052</td>\n",
       "      <td>149</td>\n",
       "      <td>1</td>\n",
       "      <td>1</td>\n",
       "      <td>Florence_Porcel</td>\n",
       "      <td>10.871801</td>\n",
       "    </tr>\n",
       "    <tr>\n",
       "      <th>71</th>\n",
       "      <td>Primum_Non_Nocere</td>\n",
       "      <td>51226</td>\n",
       "      <td>966638</td>\n",
       "      <td>1099</td>\n",
       "      <td>29</td>\n",
       "      <td>0</td>\n",
       "      <td>1</td>\n",
       "      <td>Primum_Non_Nocere</td>\n",
       "      <td>10.844002</td>\n",
       "    </tr>\n",
       "    <tr>\n",
       "      <th>86</th>\n",
       "      <td>Stardust</td>\n",
       "      <td>50925</td>\n",
       "      <td>2542664</td>\n",
       "      <td>592</td>\n",
       "      <td>162</td>\n",
       "      <td>0</td>\n",
       "      <td>0</td>\n",
       "      <td>Stardust</td>\n",
       "      <td>10.838109</td>\n",
       "    </tr>\n",
       "    <tr>\n",
       "      <th>77</th>\n",
       "      <td>Science_clic</td>\n",
       "      <td>49535</td>\n",
       "      <td>988694</td>\n",
       "      <td>1012</td>\n",
       "      <td>29</td>\n",
       "      <td>0</td>\n",
       "      <td>0</td>\n",
       "      <td>Science_clic</td>\n",
       "      <td>10.810435</td>\n",
       "    </tr>\n",
       "    <tr>\n",
       "      <th>47</th>\n",
       "      <td>Lanterne_cosmique</td>\n",
       "      <td>41382</td>\n",
       "      <td>1296053</td>\n",
       "      <td>1050</td>\n",
       "      <td>19</td>\n",
       "      <td>0</td>\n",
       "      <td>1</td>\n",
       "      <td>Lanterne_cosmique</td>\n",
       "      <td>10.630601</td>\n",
       "    </tr>\n",
       "    <tr>\n",
       "      <th>...</th>\n",
       "      <td>...</td>\n",
       "      <td>...</td>\n",
       "      <td>...</td>\n",
       "      <td>...</td>\n",
       "      <td>...</td>\n",
       "      <td>...</td>\n",
       "      <td>...</td>\n",
       "      <td>...</td>\n",
       "      <td>...</td>\n",
       "    </tr>\n",
       "    <tr>\n",
       "      <th>61</th>\n",
       "      <td>Math_magique</td>\n",
       "      <td>1534</td>\n",
       "      <td>18176</td>\n",
       "      <td>410</td>\n",
       "      <td>8</td>\n",
       "      <td>0</td>\n",
       "      <td>1</td>\n",
       "      <td>Math_magique</td>\n",
       "      <td>7.335634</td>\n",
       "    </tr>\n",
       "    <tr>\n",
       "      <th>37</th>\n",
       "      <td>L_envers_de_la_blouse</td>\n",
       "      <td>1494</td>\n",
       "      <td>31299</td>\n",
       "      <td>521</td>\n",
       "      <td>18</td>\n",
       "      <td>0</td>\n",
       "      <td>1</td>\n",
       "      <td>L_envers_de_la_blouse</td>\n",
       "      <td>7.309212</td>\n",
       "    </tr>\n",
       "    <tr>\n",
       "      <th>29</th>\n",
       "      <td>FeezHic</td>\n",
       "      <td>1467</td>\n",
       "      <td>31063</td>\n",
       "      <td>694</td>\n",
       "      <td>38</td>\n",
       "      <td>0</td>\n",
       "      <td>1</td>\n",
       "      <td>FeezHic</td>\n",
       "      <td>7.290975</td>\n",
       "    </tr>\n",
       "    <tr>\n",
       "      <th>96</th>\n",
       "      <td>Corpscience_William_Buch</td>\n",
       "      <td>1432</td>\n",
       "      <td>102023</td>\n",
       "      <td>679</td>\n",
       "      <td>14</td>\n",
       "      <td>0</td>\n",
       "      <td>1</td>\n",
       "      <td>Corpscience_William_Buch</td>\n",
       "      <td>7.266827</td>\n",
       "    </tr>\n",
       "    <tr>\n",
       "      <th>2</th>\n",
       "      <td>Alexis_Rastier</td>\n",
       "      <td>1245</td>\n",
       "      <td>29292</td>\n",
       "      <td>2007</td>\n",
       "      <td>23</td>\n",
       "      <td>0</td>\n",
       "      <td>0</td>\n",
       "      <td>Alexis_Rastier</td>\n",
       "      <td>7.126891</td>\n",
       "    </tr>\n",
       "    <tr>\n",
       "      <th>94</th>\n",
       "      <td>We_are_science</td>\n",
       "      <td>1224</td>\n",
       "      <td>14023</td>\n",
       "      <td>667</td>\n",
       "      <td>11</td>\n",
       "      <td>0</td>\n",
       "      <td>1</td>\n",
       "      <td>We_are_science</td>\n",
       "      <td>7.109879</td>\n",
       "    </tr>\n",
       "    <tr>\n",
       "      <th>64</th>\n",
       "      <td>Molécules</td>\n",
       "      <td>1058</td>\n",
       "      <td>11202</td>\n",
       "      <td>466</td>\n",
       "      <td>12</td>\n",
       "      <td>1</td>\n",
       "      <td>1</td>\n",
       "      <td>Molécules</td>\n",
       "      <td>6.964136</td>\n",
       "    </tr>\n",
       "    <tr>\n",
       "      <th>91</th>\n",
       "      <td>This_is_science</td>\n",
       "      <td>1014</td>\n",
       "      <td>19768</td>\n",
       "      <td>963</td>\n",
       "      <td>22</td>\n",
       "      <td>0</td>\n",
       "      <td>1</td>\n",
       "      <td>This_is_science</td>\n",
       "      <td>6.921658</td>\n",
       "    </tr>\n",
       "    <tr>\n",
       "      <th>54</th>\n",
       "      <td>Le_saviez_vous</td>\n",
       "      <td>942</td>\n",
       "      <td>36554</td>\n",
       "      <td>936</td>\n",
       "      <td>25</td>\n",
       "      <td>0</td>\n",
       "      <td>1</td>\n",
       "      <td>Le_saviez_vous</td>\n",
       "      <td>6.848005</td>\n",
       "    </tr>\n",
       "    <tr>\n",
       "      <th>109</th>\n",
       "      <td>Elles_comme_linguistes</td>\n",
       "      <td>807</td>\n",
       "      <td>20999</td>\n",
       "      <td>413</td>\n",
       "      <td>28</td>\n",
       "      <td>1</td>\n",
       "      <td>1</td>\n",
       "      <td>Elles_comme_linguistes</td>\n",
       "      <td>6.693324</td>\n",
       "    </tr>\n",
       "    <tr>\n",
       "      <th>114</th>\n",
       "      <td>Neuropsy_Chovlog</td>\n",
       "      <td>551</td>\n",
       "      <td>11557</td>\n",
       "      <td>510</td>\n",
       "      <td>12</td>\n",
       "      <td>0</td>\n",
       "      <td>1</td>\n",
       "      <td>Neuropsy_Chovlog</td>\n",
       "      <td>6.311735</td>\n",
       "    </tr>\n",
       "    <tr>\n",
       "      <th>112</th>\n",
       "      <td>Why_Doc</td>\n",
       "      <td>524</td>\n",
       "      <td>16152</td>\n",
       "      <td>317</td>\n",
       "      <td>11</td>\n",
       "      <td>0</td>\n",
       "      <td>1</td>\n",
       "      <td>Why_Doc</td>\n",
       "      <td>6.261492</td>\n",
       "    </tr>\n",
       "    <tr>\n",
       "      <th>101</th>\n",
       "      <td>Connecsciences</td>\n",
       "      <td>523</td>\n",
       "      <td>9019</td>\n",
       "      <td>444</td>\n",
       "      <td>5</td>\n",
       "      <td>0</td>\n",
       "      <td>1</td>\n",
       "      <td>Connecsciences</td>\n",
       "      <td>6.259581</td>\n",
       "    </tr>\n",
       "    <tr>\n",
       "      <th>26</th>\n",
       "      <td>Droupix</td>\n",
       "      <td>505</td>\n",
       "      <td>16758</td>\n",
       "      <td>1394</td>\n",
       "      <td>10</td>\n",
       "      <td>0</td>\n",
       "      <td>1</td>\n",
       "      <td>Droupix</td>\n",
       "      <td>6.224558</td>\n",
       "    </tr>\n",
       "    <tr>\n",
       "      <th>32</th>\n",
       "      <td>Goana</td>\n",
       "      <td>465</td>\n",
       "      <td>12510</td>\n",
       "      <td>563</td>\n",
       "      <td>8</td>\n",
       "      <td>0</td>\n",
       "      <td>1</td>\n",
       "      <td>Goana</td>\n",
       "      <td>6.142037</td>\n",
       "    </tr>\n",
       "    <tr>\n",
       "      <th>11</th>\n",
       "      <td>Biosfear</td>\n",
       "      <td>416</td>\n",
       "      <td>8174</td>\n",
       "      <td>956</td>\n",
       "      <td>16</td>\n",
       "      <td>0</td>\n",
       "      <td>1</td>\n",
       "      <td>Biosfear</td>\n",
       "      <td>6.030685</td>\n",
       "    </tr>\n",
       "    <tr>\n",
       "      <th>8</th>\n",
       "      <td>BasicDev</td>\n",
       "      <td>383</td>\n",
       "      <td>12872</td>\n",
       "      <td>963</td>\n",
       "      <td>19</td>\n",
       "      <td>0</td>\n",
       "      <td>0</td>\n",
       "      <td>BasicDev</td>\n",
       "      <td>5.948035</td>\n",
       "    </tr>\n",
       "    <tr>\n",
       "      <th>107</th>\n",
       "      <td>MrWibou</td>\n",
       "      <td>360</td>\n",
       "      <td>5744</td>\n",
       "      <td>332</td>\n",
       "      <td>7</td>\n",
       "      <td>0</td>\n",
       "      <td>1</td>\n",
       "      <td>MrWibou</td>\n",
       "      <td>5.886104</td>\n",
       "    </tr>\n",
       "    <tr>\n",
       "      <th>7</th>\n",
       "      <td>Alice_au_pays_des_étoiles</td>\n",
       "      <td>310</td>\n",
       "      <td>5123</td>\n",
       "      <td>402</td>\n",
       "      <td>8</td>\n",
       "      <td>1</td>\n",
       "      <td>1</td>\n",
       "      <td>Alice_au_pays_des_étoiles</td>\n",
       "      <td>5.736572</td>\n",
       "    </tr>\n",
       "    <tr>\n",
       "      <th>110</th>\n",
       "      <td>Lyokoi_Kun</td>\n",
       "      <td>266</td>\n",
       "      <td>9668</td>\n",
       "      <td>789</td>\n",
       "      <td>22</td>\n",
       "      <td>0</td>\n",
       "      <td>1</td>\n",
       "      <td>Lyokoi_Kun</td>\n",
       "      <td>5.583496</td>\n",
       "    </tr>\n",
       "    <tr>\n",
       "      <th>102</th>\n",
       "      <td>Homo_Sapiens</td>\n",
       "      <td>252</td>\n",
       "      <td>7594</td>\n",
       "      <td>793</td>\n",
       "      <td>20</td>\n",
       "      <td>0</td>\n",
       "      <td>1</td>\n",
       "      <td>Homo_Sapiens</td>\n",
       "      <td>5.529429</td>\n",
       "    </tr>\n",
       "    <tr>\n",
       "      <th>103</th>\n",
       "      <td>Et_comment</td>\n",
       "      <td>252</td>\n",
       "      <td>252</td>\n",
       "      <td>538</td>\n",
       "      <td>24</td>\n",
       "      <td>0</td>\n",
       "      <td>1</td>\n",
       "      <td>Et_comment</td>\n",
       "      <td>5.529429</td>\n",
       "    </tr>\n",
       "    <tr>\n",
       "      <th>100</th>\n",
       "      <td>Les_patates_douces</td>\n",
       "      <td>226</td>\n",
       "      <td>2141</td>\n",
       "      <td>518</td>\n",
       "      <td>3</td>\n",
       "      <td>1</td>\n",
       "      <td>1</td>\n",
       "      <td>Les_patates_douces</td>\n",
       "      <td>5.420535</td>\n",
       "    </tr>\n",
       "    <tr>\n",
       "      <th>60</th>\n",
       "      <td>Maths_un_peu_ça</td>\n",
       "      <td>198</td>\n",
       "      <td>2207</td>\n",
       "      <td>36</td>\n",
       "      <td>6</td>\n",
       "      <td>0</td>\n",
       "      <td>1</td>\n",
       "      <td>Maths_un_peu_ça</td>\n",
       "      <td>5.288267</td>\n",
       "    </tr>\n",
       "    <tr>\n",
       "      <th>81</th>\n",
       "      <td>Science_is_magic</td>\n",
       "      <td>192</td>\n",
       "      <td>28245</td>\n",
       "      <td>1345</td>\n",
       "      <td>17</td>\n",
       "      <td>0</td>\n",
       "      <td>1</td>\n",
       "      <td>Science_is_magic</td>\n",
       "      <td>5.257495</td>\n",
       "    </tr>\n",
       "    <tr>\n",
       "      <th>35</th>\n",
       "      <td>In_vivo_veritas</td>\n",
       "      <td>97</td>\n",
       "      <td>889</td>\n",
       "      <td>833</td>\n",
       "      <td>4</td>\n",
       "      <td>1</td>\n",
       "      <td>1</td>\n",
       "      <td>In_vivo_veritas</td>\n",
       "      <td>4.574711</td>\n",
       "    </tr>\n",
       "    <tr>\n",
       "      <th>56</th>\n",
       "      <td>Les_contes_des_1001_terres</td>\n",
       "      <td>84</td>\n",
       "      <td>1824</td>\n",
       "      <td>737</td>\n",
       "      <td>7</td>\n",
       "      <td>0</td>\n",
       "      <td>1</td>\n",
       "      <td>Les_contes_des_1001_terres</td>\n",
       "      <td>4.430817</td>\n",
       "    </tr>\n",
       "    <tr>\n",
       "      <th>19</th>\n",
       "      <td>Curieux_2_savoir</td>\n",
       "      <td>57</td>\n",
       "      <td>6278</td>\n",
       "      <td>1078</td>\n",
       "      <td>11</td>\n",
       "      <td>0</td>\n",
       "      <td>1</td>\n",
       "      <td>Curieux_2_savoir</td>\n",
       "      <td>4.043051</td>\n",
       "    </tr>\n",
       "    <tr>\n",
       "      <th>105</th>\n",
       "      <td>Cosmogonia</td>\n",
       "      <td>54</td>\n",
       "      <td>895</td>\n",
       "      <td>380</td>\n",
       "      <td>9</td>\n",
       "      <td>0</td>\n",
       "      <td>1</td>\n",
       "      <td>Cosmogonia</td>\n",
       "      <td>3.988984</td>\n",
       "    </tr>\n",
       "    <tr>\n",
       "      <th>104</th>\n",
       "      <td>Vidé_Bio</td>\n",
       "      <td>27</td>\n",
       "      <td>1155</td>\n",
       "      <td>690</td>\n",
       "      <td>11</td>\n",
       "      <td>0</td>\n",
       "      <td>1</td>\n",
       "      <td>Vidé_Bio</td>\n",
       "      <td>3.295837</td>\n",
       "    </tr>\n",
       "  </tbody>\n",
       "</table>\n",
       "<p>115 rows × 9 columns</p>\n",
       "</div>"
      ],
      "text/plain": [
       "                     Unnamed: 0     Abos       Vues  AgeJ  Videos  IncF  FC  \\\n",
       "25                     DrNozman  1816311  209501652  2283     214     0   1   \n",
       "27                     E-penser   905076   67071365  1462      95     0   1   \n",
       "28                ExperimentBoy   631122   49550375  1780     119     0   1   \n",
       "24                 Dirtybiology   485255   24112253  1287      50     0   1   \n",
       "5                        Axolot   456877   13506876  1539      22     0   1   \n",
       "20               Dans_ton_corps   390463   24414157   503      72     0   1   \n",
       "79            Science_étonnante   330134   16466239   959      59     0   1   \n",
       "36      Incroyables_expériences   274756   32121498  3036      91     0   1   \n",
       "55          Les_Revues_du_Monde   271154    7847338  1132      32     1   1   \n",
       "63                    Mic_Maths   247753   16201277  2180     133     0   1   \n",
       "59                 Linguisticae   153644    6570513   981     103     0   1   \n",
       "34              Hygiène_mentale   145397    4055326  1132      30     0   0   \n",
       "41            La_minute_science   119081    5285894  1072      56     0   0   \n",
       "78                  Science4All    95996    3473673   564     109     0   1   \n",
       "89                String_Theory    92569    4181258   514      75     0   1   \n",
       "51                    Le_PsyLab    91444    2385691  1278      52     0   1   \n",
       "1                        Albert    90362    1580676   536      12     0   0   \n",
       "23                  AstronoGeek    89378    3094237   693      27     0   1   \n",
       "84                     Scilabus    80858    2558418  1446      69     1   1   \n",
       "15     C_est_une_autre_histoire    77986    2045244   792      47     1   1   \n",
       "90             Stupid_Economics    68389    1608493   800      33     0   1   \n",
       "46          La_tronche_en_biais    67748    3666959  1020     120     0   1   \n",
       "52           Le_Sense_of_Wonder    66902     692192   830       6     0   1   \n",
       "22                    Dimension    61048    1319325   815      25     0   0   \n",
       "33                     Heu_Reka    60470    1632981   679      36     0   1   \n",
       "30              Florence_Porcel    52670    2590263  2052     149     1   1   \n",
       "71            Primum_Non_Nocere    51226     966638  1099      29     0   1   \n",
       "86                     Stardust    50925    2542664   592     162     0   0   \n",
       "77                 Science_clic    49535     988694  1012      29     0   0   \n",
       "47            Lanterne_cosmique    41382    1296053  1050      19     0   1   \n",
       "..                          ...      ...        ...   ...     ...   ...  ..   \n",
       "61                 Math_magique     1534      18176   410       8     0   1   \n",
       "37        L_envers_de_la_blouse     1494      31299   521      18     0   1   \n",
       "29                      FeezHic     1467      31063   694      38     0   1   \n",
       "96     Corpscience_William_Buch     1432     102023   679      14     0   1   \n",
       "2                Alexis_Rastier     1245      29292  2007      23     0   0   \n",
       "94               We_are_science     1224      14023   667      11     0   1   \n",
       "64                    Molécules     1058      11202   466      12     1   1   \n",
       "91              This_is_science     1014      19768   963      22     0   1   \n",
       "54               Le_saviez_vous      942      36554   936      25     0   1   \n",
       "109      Elles_comme_linguistes      807      20999   413      28     1   1   \n",
       "114            Neuropsy_Chovlog      551      11557   510      12     0   1   \n",
       "112                     Why_Doc      524      16152   317      11     0   1   \n",
       "101              Connecsciences      523       9019   444       5     0   1   \n",
       "26                      Droupix      505      16758  1394      10     0   1   \n",
       "32                        Goana      465      12510   563       8     0   1   \n",
       "11                     Biosfear      416       8174   956      16     0   1   \n",
       "8                      BasicDev      383      12872   963      19     0   0   \n",
       "107                     MrWibou      360       5744   332       7     0   1   \n",
       "7     Alice_au_pays_des_étoiles      310       5123   402       8     1   1   \n",
       "110                  Lyokoi_Kun      266       9668   789      22     0   1   \n",
       "102                Homo_Sapiens      252       7594   793      20     0   1   \n",
       "103                  Et_comment      252        252   538      24     0   1   \n",
       "100          Les_patates_douces      226       2141   518       3     1   1   \n",
       "60              Maths_un_peu_ça      198       2207    36       6     0   1   \n",
       "81             Science_is_magic      192      28245  1345      17     0   1   \n",
       "35              In_vivo_veritas       97        889   833       4     1   1   \n",
       "56   Les_contes_des_1001_terres       84       1824   737       7     0   1   \n",
       "19             Curieux_2_savoir       57       6278  1078      11     0   1   \n",
       "105                  Cosmogonia       54        895   380       9     0   1   \n",
       "104                    Vidé_Bio       27       1155   690      11     0   1   \n",
       "\n",
       "                           name    logabos  \n",
       "25                     DrNozman  14.412318  \n",
       "27                     E-penser  13.715774  \n",
       "28                ExperimentBoy  13.355254  \n",
       "24                 Dirtybiology  13.092430  \n",
       "5                        Axolot  13.032169  \n",
       "20               Dans_ton_corps  12.875088  \n",
       "79            Science_étonnante  12.707254  \n",
       "36      Incroyables_expériences  12.523639  \n",
       "55          Les_Revues_du_Monde  12.510442  \n",
       "63                    Mic_Maths  12.420188  \n",
       "59                 Linguisticae  11.942394  \n",
       "34              Hygiène_mentale  11.887223  \n",
       "41            La_minute_science  11.687559  \n",
       "78                  Science4All  11.472062  \n",
       "89                String_Theory  11.435710  \n",
       "51                    Le_PsyLab  11.423482  \n",
       "1                        Albert  11.411579  \n",
       "23                  AstronoGeek  11.400630  \n",
       "84                     Scilabus  11.300450  \n",
       "15     C_est_une_autre_histoire  11.264285  \n",
       "90             Stupid_Economics  11.132967  \n",
       "46          La_tronche_en_biais  11.123550  \n",
       "52           Le_Sense_of_Wonder  11.110984  \n",
       "22                    Dimension  11.019416  \n",
       "33                     Heu_Reka  11.009903  \n",
       "30              Florence_Porcel  10.871801  \n",
       "71            Primum_Non_Nocere  10.844002  \n",
       "86                     Stardust  10.838109  \n",
       "77                 Science_clic  10.810435  \n",
       "47            Lanterne_cosmique  10.630601  \n",
       "..                          ...        ...  \n",
       "61                 Math_magique   7.335634  \n",
       "37        L_envers_de_la_blouse   7.309212  \n",
       "29                      FeezHic   7.290975  \n",
       "96     Corpscience_William_Buch   7.266827  \n",
       "2                Alexis_Rastier   7.126891  \n",
       "94               We_are_science   7.109879  \n",
       "64                    Molécules   6.964136  \n",
       "91              This_is_science   6.921658  \n",
       "54               Le_saviez_vous   6.848005  \n",
       "109      Elles_comme_linguistes   6.693324  \n",
       "114            Neuropsy_Chovlog   6.311735  \n",
       "112                     Why_Doc   6.261492  \n",
       "101              Connecsciences   6.259581  \n",
       "26                      Droupix   6.224558  \n",
       "32                        Goana   6.142037  \n",
       "11                     Biosfear   6.030685  \n",
       "8                      BasicDev   5.948035  \n",
       "107                     MrWibou   5.886104  \n",
       "7     Alice_au_pays_des_étoiles   5.736572  \n",
       "110                  Lyokoi_Kun   5.583496  \n",
       "102                Homo_Sapiens   5.529429  \n",
       "103                  Et_comment   5.529429  \n",
       "100          Les_patates_douces   5.420535  \n",
       "60              Maths_un_peu_ça   5.288267  \n",
       "81             Science_is_magic   5.257495  \n",
       "35              In_vivo_veritas   4.574711  \n",
       "56   Les_contes_des_1001_terres   4.430817  \n",
       "19             Curieux_2_savoir   4.043051  \n",
       "105                  Cosmogonia   3.988984  \n",
       "104                    Vidé_Bio   3.295837  \n",
       "\n",
       "[115 rows x 9 columns]"
      ]
     },
     "execution_count": 47,
     "metadata": {},
     "output_type": "execute_result"
    }
   ],
   "source": [
    "df[df[spec] == 1]"
   ]
  },
  {
   "cell_type": "code",
   "execution_count": 72,
   "metadata": {
    "collapsed": false
   },
   "outputs": [
    {
     "data": {
      "text/plain": [
       "array([[<matplotlib.axes._subplots.AxesSubplot object at 0x117d37490>,\n",
       "        <matplotlib.axes._subplots.AxesSubplot object at 0x117d85a10>,\n",
       "        <matplotlib.axes._subplots.AxesSubplot object at 0x118213190>,\n",
       "        <matplotlib.axes._subplots.AxesSubplot object at 0x118278890>,\n",
       "        <matplotlib.axes._subplots.AxesSubplot object at 0x1182fe8d0>],\n",
       "       [<matplotlib.axes._subplots.AxesSubplot object at 0x118372250>,\n",
       "        <matplotlib.axes._subplots.AxesSubplot object at 0x1183f8450>,\n",
       "        <matplotlib.axes._subplots.AxesSubplot object at 0x11845ecd0>,\n",
       "        <matplotlib.axes._subplots.AxesSubplot object at 0x1184e4dd0>,\n",
       "        <matplotlib.axes._subplots.AxesSubplot object at 0x118557850>],\n",
       "       [<matplotlib.axes._subplots.AxesSubplot object at 0x1185dbcd0>,\n",
       "        <matplotlib.axes._subplots.AxesSubplot object at 0x11859c4d0>,\n",
       "        <matplotlib.axes._subplots.AxesSubplot object at 0x1186d6910>,\n",
       "        <matplotlib.axes._subplots.AxesSubplot object at 0x11875d790>,\n",
       "        <matplotlib.axes._subplots.AxesSubplot object at 0x1187ce490>],\n",
       "       [<matplotlib.axes._subplots.AxesSubplot object at 0x118856410>,\n",
       "        <matplotlib.axes._subplots.AxesSubplot object at 0x1188bcb90>,\n",
       "        <matplotlib.axes._subplots.AxesSubplot object at 0x118943bd0>,\n",
       "        <matplotlib.axes._subplots.AxesSubplot object at 0x1189b63d0>,\n",
       "        <matplotlib.axes._subplots.AxesSubplot object at 0x118a3e590>],\n",
       "       [<matplotlib.axes._subplots.AxesSubplot object at 0x118aa2f10>,\n",
       "        <matplotlib.axes._subplots.AxesSubplot object at 0x118b36210>,\n",
       "        <matplotlib.axes._subplots.AxesSubplot object at 0x118ac1bd0>,\n",
       "        <matplotlib.axes._subplots.AxesSubplot object at 0x118c23ed0>,\n",
       "        <matplotlib.axes._subplots.AxesSubplot object at 0x118c60f50>]], dtype=object)"
      ]
     },
     "execution_count": 72,
     "metadata": {},
     "output_type": "execute_result"
    },
    {
     "data": {
      "image/png": "[encoded data removed]",
      "text/plain": [
       "<matplotlib.figure.Figure at 0x110c5e650>"
      ]
     },
     "metadata": {},
     "output_type": "display_data"
    }
   ],
   "source": [
    "\n",
    "pd.scatter_matrix(df[['logabos','Vues','AgeJ','Videos','Abos']], alpha=0.2, figsize=(20, 10), diagonal='kde')\n"
   ]
  },
  {
   "cell_type": "code",
   "execution_count": 108,
   "metadata": {
    "collapsed": false
   },
   "outputs": [
    {
     "data": {
      "text/plain": [
       "<matplotlib.axes._subplots.AxesSubplot at 0x11b5250d0>"
      ]
     },
     "execution_count": 108,
     "metadata": {},
     "output_type": "execute_result"
    },
    {
     "data": {
      "image/png": "[encoded data removed]",
      "text/plain": [
       "<matplotlib.figure.Figure at 0x11b1ab490>"
      ]
     },
     "metadata": {},
     "output_type": "display_data"
    }
   ],
   "source": [
    "df.plot(kind='scatter',x='Vues',y='Abos',xlim=(0,10000000),ylim=(0,500000),c=df['hf_colors'],alpha='0.5')"
   ]
  },
  {
   "cell_type": "code",
   "execution_count": 109,
   "metadata": {
    "collapsed": false
   },
   "outputs": [
    {
     "data": {
      "text/plain": [
       "<matplotlib.axes._subplots.AxesSubplot at 0x11b498510>"
      ]
     },
     "execution_count": 109,
     "metadata": {},
     "output_type": "execute_result"
    },
    {
     "data": {
      "image/png": "[encoded data removed]",
      "text/plain": [
       "<matplotlib.figure.Figure at 0x11addf550>"
      ]
     },
     "metadata": {},
     "output_type": "display_data"
    }
   ],
   "source": [
    "df[df['Vues'] > 10000000].plot(kind='scatter',x='Vues',y='Abos',c=df['hf_colors'],alpha='0.5')"
   ]
  },
  {
   "cell_type": "code",
   "execution_count": 91,
   "metadata": {
    "collapsed": false
   },
   "outputs": [],
   "source": [
    "outliers1 = df['Vues'] < 10000000 # chaines avec plus de 10M vues"
   ]
  },
  {
   "cell_type": "code",
   "execution_count": 90,
   "metadata": {
    "collapsed": false
   },
   "outputs": [
    {
     "data": {
      "text/plain": [
       "<matplotlib.axes._subplots.AxesSubplot at 0x11a2f5bd0>"
      ]
     },
     "execution_count": 90,
     "metadata": {},
     "output_type": "execute_result"
    },
    {
     "data": {
      "image/png": "[encoded data removed]",
      "text/plain": [
       "<matplotlib.figure.Figure at 0x11a2d5f50>"
      ]
     },
     "metadata": {},
     "output_type": "display_data"
    }
   ],
   "source": [
    "df.plot(kind='scatter',x='AgeJ',y='Abos')"
   ]
  },
  {
   "cell_type": "code",
   "execution_count": 95,
   "metadata": {
    "collapsed": false
   },
   "outputs": [
    {
     "data": {
      "text/plain": [
       "<matplotlib.axes._subplots.AxesSubplot at 0x11a762b10>"
      ]
     },
     "execution_count": 95,
     "metadata": {},
     "output_type": "execute_result"
    },
    {
     "data": {
      "image/png": "[encoded data removed]",
      "text/plain": [
       "<matplotlib.figure.Figure at 0x11a76ad10>"
      ]
     },
     "metadata": {},
     "output_type": "display_data"
    }
   ],
   "source": [
    "df[outliers1].plot(kind='scatter',x='Videos',y='Abos')"
   ]
  },
  {
   "cell_type": "code",
   "execution_count": 101,
   "metadata": {
    "collapsed": false
   },
   "outputs": [
    {
     "data": {
      "text/plain": [
       "<matplotlib.axes._subplots.AxesSubplot at 0x11adcb710>"
      ]
     },
     "execution_count": 101,
     "metadata": {},
     "output_type": "execute_result"
    },
    {
     "data": {
      "image/png": "[encoded data removed]",
      "text/plain": [
       "<matplotlib.figure.Figure at 0x11afa44d0>"
      ]
     },
     "metadata": {},
     "output_type": "display_data"
    }
   ],
   "source": [
    "df[outliers1].plot(kind='scatter',x='Videos',y='Abos',xlim=(0,50),ylim=(0,50000),c='#FF0000')"
   ]
  },
  {
   "cell_type": "code",
   "execution_count": 104,
   "metadata": {
    "collapsed": false
   },
   "outputs": [],
   "source": [
    "colors = ['#FF0000','#00FF00']\n",
    "df.loc[df['IncF'] == 1,'hf_colors'] = '#FF0000'\n",
    "df.loc[df['IncF'] == 0,'hf_colors'] = '#00FF00'"
   ]
  },
  {
   "cell_type": "code",
   "execution_count": 105,
   "metadata": {
    "collapsed": false
   },
   "outputs": [
    {
     "data": {
      "text/plain": [
       "<matplotlib.axes._subplots.AxesSubplot at 0x11af14590>"
      ]
     },
     "execution_count": 105,
     "metadata": {},
     "output_type": "execute_result"
    },
    {
     "data": {
      "image/png": "[encoded data removed]",
      "text/plain": [
       "<matplotlib.figure.Figure at 0x11afb62d0>"
      ]
     },
     "metadata": {},
     "output_type": "display_data"
    }
   ],
   "source": [
    "df[outliers1].plot(kind='scatter',x='Videos',y='Abos',xlim=(0,50),ylim=(0,50000),c=df['hf_colors'])"
   ]
  },
  {
   "cell_type": "code",
   "execution_count": 106,
   "metadata": {
    "collapsed": false
   },
   "outputs": [
    {
     "data": {
      "text/plain": [
       "<matplotlib.axes._subplots.AxesSubplot at 0x119441950>"
      ]
     },
     "execution_count": 106,
     "metadata": {},
     "output_type": "execute_result"
    },
    {
     "data": {
      "image/png": "[encoded data removed]",
      "text/plain": [
       "<matplotlib.figure.Figure at 0x11b2dd610>"
      ]
     },
     "metadata": {},
     "output_type": "display_data"
    }
   ],
   "source": [
    "df[outliers1].plot(kind='scatter',x='Videos',y='Abos',c=df['hf_colors'])"
   ]
  },
  {
   "cell_type": "code",
   "execution_count": 110,
   "metadata": {
    "collapsed": false
   },
   "outputs": [
    {
     "data": {
      "text/html": [
       "<div>\n",
       "<table border=\"1\" class=\"dataframe\">\n",
       "  <thead>\n",
       "    <tr style=\"text-align: right;\">\n",
       "      <th></th>\n",
       "      <th>Unnamed: 0</th>\n",
       "      <th>Abos</th>\n",
       "      <th>Vues</th>\n",
       "      <th>AgeJ</th>\n",
       "      <th>Videos</th>\n",
       "      <th>IncF</th>\n",
       "      <th>FC</th>\n",
       "      <th>name</th>\n",
       "      <th>logabos</th>\n",
       "      <th>hf_colors</th>\n",
       "    </tr>\n",
       "  </thead>\n",
       "  <tbody>\n",
       "    <tr>\n",
       "      <th>14</th>\n",
       "      <td>Castor_Mother</td>\n",
       "      <td>37643</td>\n",
       "      <td>1171248</td>\n",
       "      <td>937</td>\n",
       "      <td>51</td>\n",
       "      <td>1</td>\n",
       "      <td>1</td>\n",
       "      <td>Castor_Mother</td>\n",
       "      <td>10.535902</td>\n",
       "      <td>#FF0000</td>\n",
       "    </tr>\n",
       "  </tbody>\n",
       "</table>\n",
       "</div>"
      ],
      "text/plain": [
       "       Unnamed: 0   Abos     Vues  AgeJ  Videos  IncF  FC           name  \\\n",
       "14  Castor_Mother  37643  1171248   937      51     1   1  Castor_Mother   \n",
       "\n",
       "      logabos hf_colors  \n",
       "14  10.535902   #FF0000  "
      ]
     },
     "execution_count": 110,
     "metadata": {},
     "output_type": "execute_result"
    }
   ],
   "source": [
    "df[(df['IncF'] == 1) & (df['Videos'] > 50) & (df['Abos'] < 50000)]"
   ]
  },
  {
   "cell_type": "code",
   "execution_count": null,
   "metadata": {
    "collapsed": true
   },
   "outputs": [],
   "source": []
  }
 ],
 "metadata": {
  "kernelspec": {
   "display_name": "Python 2",
   "language": "python",
   "name": "python2"
  },
  "language_info": {
   "codemirror_mode": {
    "name": "ipython",
    "version": 2
   },
   "file_extension": ".py",
   "mimetype": "text/x-python",
   "name": "python",
   "nbconvert_exporter": "python",
   "pygments_lexer": "ipython2",
   "version": "2.7.11"
  }
 },
 "nbformat": 4,
 "nbformat_minor": 1
}
